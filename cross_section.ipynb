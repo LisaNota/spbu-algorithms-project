{
 "cells": [
  {
   "cell_type": "code",
   "execution_count": 1,
   "metadata": {},
   "outputs": [],
   "source": [
    "import numpy as np"
   ]
  },
  {
   "cell_type": "markdown",
   "metadata": {},
   "source": [
    "## Входные данные:\n",
    "\n",
    "1. radius, length = длина канала\n",
    "2. magma = начальная температура магмы (характеристика из монщности нагрева)\n",
    "3. final_temparure = неиронично это финальная температура\n",
    "4. alpha = коэф-т теплопроводности"
   ]
  },
  {
   "cell_type": "code",
   "execution_count": 3,
   "metadata": {},
   "outputs": [
    {
     "name": "stdout",
     "output_type": "stream",
     "text": [
      "100 100 700\n"
     ]
    }
   ],
   "source": [
    "radius, length = map(int, input().split())\n",
    "magma = int(input())\n",
    "final_temperature = 70\n",
    "alpha = 0.56\n",
    "\n",
    "print(radius, length, magma)"
   ]
  },
  {
   "cell_type": "markdown",
   "metadata": {},
   "source": [
    "Будем двигаться по радиусу с шагом 10, а по времени замерим 10000 условных единиц времени"
   ]
  },
  {
   "cell_type": "code",
   "execution_count": 86,
   "metadata": {},
   "outputs": [],
   "source": [
    "count_r = radius // 10\n",
    "count_t = 1000"
   ]
  },
  {
   "cell_type": "markdown",
   "metadata": {},
   "source": [
    "Сетка, по которой будем осуществлять вычисления. L: сетка разбиения нашего цилиндра. Разбивать будем на 10 частей"
   ]
  },
  {
   "cell_type": "code",
   "execution_count": 150,
   "metadata": {},
   "outputs": [],
   "source": [
    "L = np.ndarray((10, 1000, 10))"
   ]
  },
  {
   "cell_type": "code",
   "execution_count": 112,
   "metadata": {},
   "outputs": [
    {
     "name": "stdout",
     "output_type": "stream",
     "text": [
      "[[[0. 0. 0. ... 0. 0. 0.]\n",
      "  [0. 0. 0. ... 0. 0. 0.]\n",
      "  [0. 0. 0. ... 0. 0. 0.]\n",
      "  ...\n",
      "  [0. 0. 0. ... 0. 0. 0.]\n",
      "  [0. 0. 0. ... 0. 0. 0.]\n",
      "  [0. 0. 0. ... 0. 0. 0.]]\n",
      "\n",
      " [[0. 0. 0. ... 0. 0. 0.]\n",
      "  [0. 0. 0. ... 0. 0. 0.]\n",
      "  [0. 0. 0. ... 0. 0. 0.]\n",
      "  ...\n",
      "  [0. 0. 0. ... 0. 0. 0.]\n",
      "  [0. 0. 0. ... 0. 0. 0.]\n",
      "  [0. 0. 0. ... 0. 0. 0.]]\n",
      "\n",
      " [[0. 0. 0. ... 0. 0. 0.]\n",
      "  [0. 0. 0. ... 0. 0. 0.]\n",
      "  [0. 0. 0. ... 0. 0. 0.]\n",
      "  ...\n",
      "  [0. 0. 0. ... 0. 0. 0.]\n",
      "  [0. 0. 0. ... 0. 0. 0.]\n",
      "  [0. 0. 0. ... 0. 0. 0.]]\n",
      "\n",
      " ...\n",
      "\n",
      " [[0. 0. 0. ... 0. 0. 0.]\n",
      "  [0. 0. 0. ... 0. 0. 0.]\n",
      "  [0. 0. 0. ... 0. 0. 0.]\n",
      "  ...\n",
      "  [0. 0. 0. ... 0. 0. 0.]\n",
      "  [0. 0. 0. ... 0. 0. 0.]\n",
      "  [0. 0. 0. ... 0. 0. 0.]]\n",
      "\n",
      " [[0. 0. 0. ... 0. 0. 0.]\n",
      "  [0. 0. 0. ... 0. 0. 0.]\n",
      "  [0. 0. 0. ... 0. 0. 0.]\n",
      "  ...\n",
      "  [0. 0. 0. ... 0. 0. 0.]\n",
      "  [0. 0. 0. ... 0. 0. 0.]\n",
      "  [0. 0. 0. ... 0. 0. 0.]]\n",
      "\n",
      " [[0. 0. 0. ... 0. 0. 0.]\n",
      "  [0. 0. 0. ... 0. 0. 0.]\n",
      "  [0. 0. 0. ... 0. 0. 0.]\n",
      "  ...\n",
      "  [0. 0. 0. ... 0. 0. 0.]\n",
      "  [0. 0. 0. ... 0. 0. 0.]\n",
      "  [0. 0. 0. ... 0. 0. 0.]]]\n"
     ]
    }
   ],
   "source": [
    "print(L)"
   ]
  },
  {
   "cell_type": "markdown",
   "metadata": {},
   "source": [
    "Предположим, что на каждом кольце изначальное состояние температуры случайное. Зададим в районе 100 градусов, чтобы она не испарялась. Крайнее значение уменьшается на 10% (опционально) потому что отдает тепло в землю"
   ]
  },
  {
   "cell_type": "code",
   "execution_count": 160,
   "metadata": {},
   "outputs": [],
   "source": [
    "c = 100\n",
    "for i in range(len(L)):\n",
    "    L[i][0] = np.random.normal(c, 10, count_r)\n",
    "    L[i][0, 0] = L[i][0, 0] * 0.9 \n",
    "    c -= 3\n"
   ]
  },
  {
   "cell_type": "code",
   "execution_count": 94,
   "metadata": {},
   "outputs": [
    {
     "data": {
      "text/plain": [
       "array([[ 91.41724205,  93.76180923, 102.91032305, ...,  95.69564922,\n",
       "        101.95175304, 100.02837706],\n",
       "       [  0.        ,   0.        ,   0.        , ...,   0.        ,\n",
       "          0.        ,   0.        ],\n",
       "       [  0.        ,   0.        ,   0.        , ...,   0.        ,\n",
       "          0.        ,   0.        ],\n",
       "       ...,\n",
       "       [  0.        ,   0.        ,   0.        , ...,   0.        ,\n",
       "          0.        ,   0.        ],\n",
       "       [  0.        ,   0.        ,   0.        , ...,   0.        ,\n",
       "          0.        ,   0.        ],\n",
       "       [  0.        ,   0.        ,   0.        , ...,   0.        ,\n",
       "          0.        ,   0.        ]])"
      ]
     },
     "execution_count": 94,
     "metadata": {},
     "output_type": "execute_result"
    }
   ],
   "source": [
    "L[0]"
   ]
  },
  {
   "cell_type": "markdown",
   "metadata": {},
   "source": [
    "Теперь наше уравнение. По сетке оно выглядит вот так\n",
    "\n",
    "$T_{i,j+1} = T_{ij} + \\frac{\\alpha \\Delta t}{r_i \\Delta r^2} (T_{i+1,j} - 2T_{ij} + T_{i-1, j}) $\n",
    "\n",
    "где i = индекс по радиусу, j = индекс по времени.\n",
    "\n",
    "То есть мы имеем i * j состояний. "
   ]
  },
  {
   "cell_type": "markdown",
   "metadata": {},
   "source": [
    "Так мы можем посчитать для всех внутренних точек, и для каждой внутренней точки перейти в следующее состояние T[i, 1]. Но на границах будет проблема: для них неизвестны i+1 или i-1. Я буду рассчитывать немного криво: например, зная для точки только i+1 значение, ему же буду приравнивать i-1. \n",
    "\n",
    "TODO: доделать (придумать что делать с крайними точками)"
   ]
  },
  {
   "cell_type": "code",
   "execution_count": 161,
   "metadata": {},
   "outputs": [],
   "source": [
    "# Шаг по времени\n",
    "dt = 100"
   ]
  },
  {
   "cell_type": "code",
   "execution_count": 101,
   "metadata": {},
   "outputs": [
    {
     "data": {
      "text/plain": [
       "9"
      ]
     },
     "execution_count": 101,
     "metadata": {},
     "output_type": "execute_result"
    }
   ],
   "source": [
    "count_r-1"
   ]
  },
  {
   "cell_type": "code",
   "execution_count": 162,
   "metadata": {},
   "outputs": [],
   "source": [
    "for el in range(len(L)): # Каждое кольцо \n",
    "    for j in range(1, count_t-1): # каждый промежуток времени\n",
    "        L[el][j,0] = (L[el][j-1, 0] + ((alpha * dt)/(count_r * (count_r**2))) * (L[el][j-1, 1] - 2*(L[el][j-1, 0]) + L[el][j-1, 1])) * 0.83\n",
    "        for i in range(1, count_r - 1): # каждый радиус\n",
    "            L[el][j, i] = L[el][j-1, i] + ((alpha * dt)/((i*count_r) * (count_r**2))) * (L[el][j-1, i+1] - 2*(L[el][j-1, i]) + L[el][j-1, i-1])\n",
    "        L[el][j, -1] = L[el][j-1, -1] + ((alpha * dt)/((9*count_r) * (count_r**2))) * (L[el][j-1, 8] - 2*(L[el][j-1, 9]) + L[el][j-1, 8])\n"
   ]
  },
  {
   "cell_type": "markdown",
   "metadata": {},
   "source": [
    "Не остывает, поскольку как я понимаю, берет температуру у соседнего (так называемый *теплообмен*)Посмотрим что со всеми остальными"
   ]
  },
  {
   "cell_type": "code",
   "execution_count": 166,
   "metadata": {},
   "outputs": [
    {
     "name": "stdout",
     "output_type": "stream",
     "text": [
      "111.03165347349314\n",
      "100.74692397213852\n",
      "102.3333062078945\n",
      "86.21822123875401\n",
      "88.11124742583614\n",
      "90.72790001362328\n",
      "77.7650792595319\n",
      "74.61584200230152\n",
      "70.761621442414\n",
      "63.0099603274425\n"
     ]
    }
   ],
   "source": [
    "for i in range(len(L)):\n",
    "    print(L[i][10][4])"
   ]
  },
  {
   "cell_type": "markdown",
   "metadata": {},
   "source": [
    "Получается, что где-то нагревается, а где-то остывает. Тут есть небольшой коэффициент, поясню:\n",
    "\n",
    "0.97 = температура уменьшается на краю канала, поскольку она отдает тепло в землю\n"
   ]
  }
 ],
 "metadata": {
  "kernelspec": {
   "display_name": "Python 3",
   "language": "python",
   "name": "python3"
  },
  "language_info": {
   "codemirror_mode": {
    "name": "ipython",
    "version": 3
   },
   "file_extension": ".py",
   "mimetype": "text/x-python",
   "name": "python",
   "nbconvert_exporter": "python",
   "pygments_lexer": "ipython3",
   "version": "3.11.8"
  }
 },
 "nbformat": 4,
 "nbformat_minor": 2
}
