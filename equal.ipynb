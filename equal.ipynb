{
 "cells": [
  {
   "cell_type": "code",
   "execution_count": 2,
   "metadata": {},
   "outputs": [],
   "source": [
    "import numpy as np"
   ]
  },
  {
   "cell_type": "markdown",
   "metadata": {},
   "source": [
    "## Входные данные:\n",
    "\n",
    "1. radius, length = длина канала\n",
    "2. magma = начальная температура магмы (характеристика из монщности нагрева)\n",
    "3. final_temparure = неиронично это финальная температура\n",
    "4. alpha = коэф-т теплопроводности"
   ]
  },
  {
   "cell_type": "code",
   "execution_count": 4,
   "metadata": {},
   "outputs": [
    {
     "name": "stdout",
     "output_type": "stream",
     "text": [
      "100 100 700\n"
     ]
    }
   ],
   "source": [
    "radius, length = map(int, input().split())\n",
    "magma = int(input())\n",
    "final_temperature = 70\n",
    "alpha = 0.56\n",
    "\n",
    "print(radius, length, magma)"
   ]
  },
  {
   "cell_type": "markdown",
   "metadata": {},
   "source": [
    "Будем двигаться по радиусу с шагом 10, а по времени замерим 10000 условных единиц времени"
   ]
  },
  {
   "cell_type": "code",
   "execution_count": 62,
   "metadata": {},
   "outputs": [],
   "source": [
    "count_r = radius // 10\n",
    "count_t = 10000"
   ]
  },
  {
   "cell_type": "markdown",
   "metadata": {},
   "source": [
    "Сетка, по которой будем осуществлять вычисления"
   ]
  },
  {
   "cell_type": "code",
   "execution_count": 63,
   "metadata": {},
   "outputs": [],
   "source": [
    "T = np.zeros((count_t, count_r))"
   ]
  },
  {
   "cell_type": "markdown",
   "metadata": {},
   "source": [
    "Я не очень понимаю, как по мощности нагрева определить температуру воды у начала канала, поэтому решила просто взять какое-то нормальное распределение в районе температуры магмы (с отклонением 10). Я поискала формулы, там вроде как учитывается объем воды (единственное место, где пригодилась длина канала), возможно нужно будет ей воспользоваться\n",
    "\n",
    "TODO: доделать"
   ]
  },
  {
   "cell_type": "code",
   "execution_count": 64,
   "metadata": {},
   "outputs": [],
   "source": [
    "T[0, :] = np.random.normal(magma, 10, count_r)\n"
   ]
  },
  {
   "cell_type": "code",
   "execution_count": 65,
   "metadata": {},
   "outputs": [
    {
     "data": {
      "text/plain": [
       "array([485.14428885, 694.67917623, 702.39768749, 707.23894235,\n",
       "       694.5152844 , 710.65175205, 691.83186837, 708.0984112 ,\n",
       "       705.43693901, 684.36842273])"
      ]
     },
     "execution_count": 65,
     "metadata": {},
     "output_type": "execute_result"
    }
   ],
   "source": [
    "T[0, 0] = T[0,0] * 0.7\n",
    "T[0]"
   ]
  },
  {
   "cell_type": "markdown",
   "metadata": {},
   "source": [
    "Первоначальное распределение можно описать примерно так (да, я кажется перепутала индексы местами, но основная идея понятна):\n",
    "\n",
    "![картинка из пэинта](sheme_0.png)\n"
   ]
  },
  {
   "cell_type": "markdown",
   "metadata": {},
   "source": [
    "Теперь наше уравнение. По сетке оно выглядит вот так\n",
    "\n",
    "$T_{i,j+1} = T_{ij} + \\frac{\\alpha \\Delta t}{r_i \\Delta r^2} (T_{i+1,j} - 2T_{ij} + T_{i-1, j}) $\n",
    "\n",
    "где i = индекс по радиусу, j = индекс по времени.\n",
    "\n",
    "То есть мы имеем i * j состояний. "
   ]
  },
  {
   "cell_type": "markdown",
   "metadata": {},
   "source": [
    "Так мы можем посчитать для всех внутренних точек, и для каждой внутренней точки перейти в следующее состояние T[i, 1]. Но на границах будет проблема: для них неизвестны i+1 или i-1. Я буду рассчитывать немного криво: например, зная для точки только i+1 значение, ему же буду приравнивать i-1. \n",
    "\n",
    "TODO: доделать (придумать что делать с крайними точками)"
   ]
  },
  {
   "cell_type": "code",
   "execution_count": 69,
   "metadata": {},
   "outputs": [],
   "source": [
    "# Шаг по времени\n",
    "dt = 100"
   ]
  },
  {
   "cell_type": "code",
   "execution_count": 70,
   "metadata": {},
   "outputs": [
    {
     "data": {
      "text/plain": [
       "508.61219623413575"
      ]
     },
     "execution_count": 70,
     "metadata": {},
     "output_type": "execute_result"
    }
   ],
   "source": [
    "T[1,0] = T[0, 0] + ((alpha * dt)/(10 * (10**2))) * (T[0, 1] - 2*T[0, 0] + T[0, 1])\n",
    "\n",
    "T[1, 0]"
   ]
  },
  {
   "cell_type": "markdown",
   "metadata": {},
   "source": [
    "Не остывает, поскольку как я понимаю, берет температуру у соседнего (так называемый *теплообмен*)Посмотрим что со всеми остальными"
   ]
  },
  {
   "cell_type": "code",
   "execution_count": 71,
   "metadata": {},
   "outputs": [],
   "source": [
    "for i in range(1, count_r - 1):\n",
    "    T[1, i] = T[0, i] + ((alpha * dt)/((i*count_r) * (count_r**2))) * (T[0, i+1] - 2*T[0, i] + T[0, i-1])\n"
   ]
  },
  {
   "cell_type": "markdown",
   "metadata": {},
   "source": [
    "Границу считаю отдельно"
   ]
  },
  {
   "cell_type": "code",
   "execution_count": 73,
   "metadata": {},
   "outputs": [],
   "source": [
    "T[1, -1] = T[0, -1] + ((alpha * dt)/((9*count_r) * (count_r**2))) * (T[0, 8] - 2*T[0, 9] + T[0, 8])"
   ]
  },
  {
   "cell_type": "code",
   "execution_count": 74,
   "metadata": {},
   "outputs": [
    {
     "data": {
      "text/plain": [
       "array([485.14428885, 694.67917623, 702.39768749, 707.23894235,\n",
       "       694.5152844 , 710.65175205, 691.83186837, 708.0984112 ,\n",
       "       705.43693901, 684.36842273])"
      ]
     },
     "execution_count": 74,
     "metadata": {},
     "output_type": "execute_result"
    }
   ],
   "source": [
    "T[0]"
   ]
  },
  {
   "cell_type": "code",
   "execution_count": 75,
   "metadata": {},
   "outputs": [
    {
     "data": {
      "text/plain": [
       "array([508.61219623, 683.37745917, 702.31712431, 706.91106398,\n",
       "       694.91932615, 710.26024091, 692.15934168, 707.94698708,\n",
       "       705.3080897 , 684.63060871])"
      ]
     },
     "execution_count": 75,
     "metadata": {},
     "output_type": "execute_result"
    }
   ],
   "source": [
    "T[1]"
   ]
  },
  {
   "cell_type": "markdown",
   "metadata": {},
   "source": [
    "Получается, что где-то нагревается, а где-то остывает. Тут есть небольшой коэффициент, поясню:\n",
    "\n",
    "0.97 = температура уменьшается на краю канала, поскольку она отдает тепло в землю\n"
   ]
  },
  {
   "cell_type": "code",
   "execution_count": 90,
   "metadata": {},
   "outputs": [],
   "source": [
    "for j in range(2, count_t):\n",
    "    T[j,0] = (T[j-1, 0] + ((alpha * dt)/(10 * (10**2))) * (T[j-1, 1] - 2*T[j-1, 0] + T[j-1, 1])) * 0.97\n",
    "    for i in range(1, count_r - 1):\n",
    "        T[j, i] = T[j-1, i] + ((alpha * dt)/((i*count_r) * (count_r**2))) * (T[j-1, i+1] - 2*T[j-1, i] + T[j-1, i-1])\n",
    "    \n",
    "    T[j, -1] = T[j-1, -1] + ((alpha * dt)/((9*count_r) * (count_r**2))) * (T[j-1, 8] - 2*T[j-1, 9] + T[j-1, 8])\n",
    "\n",
    "\n"
   ]
  },
  {
   "cell_type": "code",
   "execution_count": 91,
   "metadata": {},
   "outputs": [
    {
     "data": {
      "text/plain": [
       "array([512.34032851, 674.65122569, 701.915444  , 706.60146467,\n",
       "       695.30198329, 709.88569259, 692.47563477, 707.79957474,\n",
       "       705.18181962, 684.88792847])"
      ]
     },
     "execution_count": 91,
     "metadata": {},
     "output_type": "execute_result"
    }
   ],
   "source": [
    "T[2]"
   ]
  },
  {
   "cell_type": "code",
   "execution_count": 92,
   "metadata": {},
   "outputs": [
    {
     "data": {
      "text/plain": [
       "array([398.24698997, 502.25511087, 592.50651671, 655.23185072,\n",
       "       687.17557142, 698.43447239, 700.78711871, 701.99992969,\n",
       "       700.16515505, 696.49289612])"
      ]
     },
     "execution_count": 92,
     "metadata": {},
     "output_type": "execute_result"
    }
   ],
   "source": [
    "T[99]"
   ]
  },
  {
   "cell_type": "code",
   "execution_count": 93,
   "metadata": {},
   "outputs": [
    {
     "data": {
      "text/plain": [
       "array([ 58.35924958,  74.38915926,  90.2076525 , 105.51339949,\n",
       "       119.91952878, 132.96239703, 144.11584767, 152.81180632,\n",
       "       158.46769159, 160.52061356])"
      ]
     },
     "execution_count": 93,
     "metadata": {},
     "output_type": "execute_result"
    }
   ],
   "source": [
    "T[9999]"
   ]
  },
  {
   "cell_type": "markdown",
   "metadata": {},
   "source": [
    "Получается что через 10000 условных единиц времени вода остыла и стала вот такой. Вообще, если заебываться, то можно взять еще одну сетку с разбиением 'длина канала' x 'радиус канала', измерять в каждом полученном кольце по такой схеме и передавать в следующее кольцо. Но мне кажется что уже и так выглядит хорошо. В общем, надо подумать, как это доделать"
   ]
  }
 ],
 "metadata": {
  "kernelspec": {
   "display_name": "Python 3",
   "language": "python",
   "name": "python3"
  },
  "language_info": {
   "codemirror_mode": {
    "name": "ipython",
    "version": 3
   },
   "file_extension": ".py",
   "mimetype": "text/x-python",
   "name": "python",
   "nbconvert_exporter": "python",
   "pygments_lexer": "ipython3",
   "version": "3.11.8"
  }
 },
 "nbformat": 4,
 "nbformat_minor": 2
}
